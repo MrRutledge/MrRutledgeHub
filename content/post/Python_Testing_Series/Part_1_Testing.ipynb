{
 "cells": [
  {
   "cell_type": "markdown",
   "metadata": {},
   "source": [
    "## Why you should always test your Python code\n",
    "\n",
    "Testing code is one of those things that some developers find laborious, this can be easily verified by anyone who has ever cloned a seemingly good repository from github only to find that most of the code doesn't work.\n",
    "In this post we shall work through examples, while learning how to use the standard testing library for Python. The post is mainly aimed at anyone interested to learn how to include tests in the code and how to go about it.\n",
    "There are many test libraries for Python, nose, pytest, unittest etc. In this post however, we shall stick to unittest because it's easily accessible, it comes installed with Python and once you understand it you can easily adapt the concepts to other libraries.\n",
    "\n",
    "#### What you should be comfortable with by the end of this walk through series?\n",
    "\n",
    "I hope you'll be able to explain the process of writing a unittest for python programs and also be able to run tests on your Python Jupyter Notebook."
   ]
  },
  {
   "cell_type": "markdown",
   "metadata": {},
   "source": [
    "## Motivation.\n",
    "If you have been to a car show room, you've probably bumped into a sales person who has tried to sell you car by emphasizing how good it performed in Crash tests. The same goes for Software development, if the software comes well tested, the users will feel comfortable to use it for their business. This is why its important that we get ourselves in a habit of writing tests when coding our projects. \n",
    "\n",
    "As A. Scopatz and K. D.Huff put it in their book _Effective Computation in Physics_, 2015,  pg. 403 _\"Code is assumed guilty until proven innocent. This applies to software written by other people, but even more so to software written by yourself. The mechanism that builds trust that software is performing correctly is called testing.\"_\n",
    " \n",
    "Indeed, if you're looking for any programming job especially jobs that have python as a requirement. Having tested projects is a major advantage. One way job seekers without commercial experience can show professional discipline is by ensuring that they test their projects before uploading them to remote repositories. This will also make it easy for you to join companies that use Test Driven Development methodology because you test your code and you learn every-time you do it."
   ]
  },
  {
   "cell_type": "markdown",
   "metadata": {},
   "source": [
    "## Conventions\n",
    "\n",
    "Now is the time to talk about conventions in testing especially Python testing. The're many conventions for testing, some developers embed there tests in the code as they code i.e including assertions and exceptions, this is the minimum effort required to ensure that you code runs well. The other two ways of going about it, involve having separate files for the source code and the test files or having test files in the same folder as the source code. This is in fact used on top of the first option. The last two options differ only on where the test files are placed.\n",
    "In both of the last two conventions we use the _same naming style_, I have to emphasize this we must follow the _naming_ convention in python testing because if we get it wrong the test will not run.  "
   ]
  },
  {
   "cell_type": "markdown",
   "metadata": {},
   "source": [
    "## What we need before we begin?\n",
    "As of this writing, these are the requirements one would need to have in order to guarantee success with this walk through.\n",
    "\t*  Python 3+ ( If you don't already have it.) \n",
    "\t*  Jupyter (I recommend Anaconda distribution if you don't have this one either)\n",
    "\t*  Lastly, a text editor of your choice (I recommend Visual Studio code by Microsoft)\n",
    "\n",
    "\n",
    "\n",
    "Once you get above list on your machine you can go head and open you text editor and follow the procedure for creating  a new folder, if you're using cmd/Terminaland just type ``` mkdir``` followed by whatever name you feel appropriate. I shall name mine python_testing . \n",
    "Create another sub folder within the python_testing parent folder and name it Text_Editor folder, this sub folder can be optional if you don't like to have many folders in your environment."
   ]
  },
  {
   "cell_type": "code",
   "execution_count": null,
   "metadata": {},
   "outputs": [],
   "source": []
  }
 ],
 "metadata": {
  "kernelspec": {
   "display_name": "Python 3",
   "language": "python",
   "name": "python3"
  },
  "language_info": {
   "codemirror_mode": {
    "name": "ipython",
    "version": 3
   },
   "file_extension": ".py",
   "mimetype": "text/x-python",
   "name": "python",
   "nbconvert_exporter": "python",
   "pygments_lexer": "ipython3",
   "version": "3.6.8"
  }
 },
 "nbformat": 4,
 "nbformat_minor": 2
}
